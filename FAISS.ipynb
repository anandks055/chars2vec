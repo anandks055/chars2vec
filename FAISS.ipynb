{
 "cells": [
  {
   "cell_type": "code",
   "execution_count": 2,
   "metadata": {},
   "outputs": [],
   "source": [
    "from langchain.vectorstores import FAISS\n",
    "from sentence_transformers import SentenceTransformer\n",
    "from conversion_script import padass\n",
    "import faiss\n",
    "import numpy as np\n",
    "import pandas as pd\n",
    "from conversion_script import script\n",
    "#encoder=SentenceTransformer(\"paraphrase-mpnet-base-v2\")"
   ]
  },
  {
   "cell_type": "code",
   "execution_count": 8,
   "metadata": {},
   "outputs": [
    {
     "name": "stdout",
     "output_type": "stream",
     "text": [
      "['tapah svadhyaya niratam tapasvi vagvidam varam', 'naradam paripaprachchha valmikih muni pumgavam', 'kah nu asmin sampratam loke gunavan kah cha viryavan', 'dharmajnyah cha kritajnyah cha satya vakyo dhridha vratah', 'charitrena cha ko yuktah sarva bhuteshu ko hitah', 'vidvan kah kah samarthah cha kah cha eka priya darshanah', 'atmavan ko jita krodho dyutiman kah anasuyakah', 'kasya bibhyati devah cha jata roshasya samyuge', 'etat ichchhami aham shrotum param kautuhalam hi me', 'maharshe tvam samarthosi jnyatum evam vidham naram', 'shrutva cha etat trilokajnyo valmikeh narado vachah', 'shruyatam iti cha amamtrya prahrishto vakyam abravit', 'bahavo durlabhah cha eva ye tvaya kirtita gunah', 'mune vakshshyami aham buddhva taih uktah shruyatam narah', 'ikshvaku vamsha prabhavo ramo nama janaih shrutah', 'niyata atma mahaviryo dyutiman dhritiman vashi', 'buddhiman nitiman vangmi shriman shatru nibarhanah', 'vipulamso mahabahuh kambu grivo mahahanuh']\n",
      "samarthaha asi\n",
      "[[0.9999999  0.99999994 0.99999994 0.99999994 0.99999994 0.99999994\n",
      "  0.99999994 1.         1.         1.        ]]\n",
      "nearest strings: ['śrūyatām iti ca āmaṃtrya prahṛṣṭo vākyam abravīt', 'nāradam paripapraccha vālmīkiḥ muni puṃgavam', 'etat icchāmi aham śrotum param kautūhalam hi me', 'maharṣe tvam samarthosi jñātum evam vidham naram', 'śrutvā ca etat trilokajño vālmīkeḥ nārado vacaḥ', 'ikṣvāku vaṃśa prabhavo rāmo nāma janaiḥ śrutaḥ', 'vipulāṃso mahābāhuḥ kaṃbu grīvo mahāhanuḥ', 'tapaḥ svādhyāya niratām tapasvī vāgvidām varam', 'kaḥ nu asmin sāṃpratam loke guṇavān kaḥ ca vīryavān', 'dharmajñaḥ ca kṛtajñaḥ ca satya vākyo dhṛḍha vrataḥ'] \n"
     ]
    }
   ],
   "source": [
    "from sklearn.feature_extraction.text import TfidfVectorizer\n",
    "from aksharamukha import transliterate\n",
    "from conversion_script import script, consonants\n",
    "with open('output.txt', 'r', encoding='utf-8') as file:\n",
    "    # Read the contents of the file into a list\n",
    "    padass = file.readlines()\n",
    "padas=script()\n",
    "\n",
    "vectorizer = TfidfVectorizer()\n",
    "print(padas)\n",
    "X = vectorizer.fit_transform(padas)\n",
    "import faiss\n",
    "\n",
    "# Convert the TF-IDF matrix to a numpy array\n",
    "data = X.toarray()\n",
    "\n",
    "# Create a Flat index\n",
    "index = faiss.IndexFlatL2(data.shape[1])  # L2 distance for similarity search\n",
    "index.add(data)\n",
    "query_string = 'samar thaha asi'#śrutvā ca etat trilokajño vālmīkeḥ nārado vacaḥ'\n",
    "query_string=transliterate.process('IAST','RomanColloquial',query_string)\n",
    "\n",
    "li=[]\n",
    "li.append(query_string)\n",
    "print(query_string)\n",
    "\n",
    "# Preprocess the query string into a numerical vector using the same vectorizer\n",
    "query_vector = vectorizer.transform([query_string]).toarray()\n",
    "\n",
    "# Perform a k-NN search\n",
    "k = 10\n",
    "distances, indices = index.search(query_vector, k)\n",
    "print(distances)\n",
    "nearest_strings = [padass[i] for i in indices[0]]\n",
    "print(f'nearest strings: {nearest_strings} ' )"
   ]
  },
  {
   "cell_type": "code",
   "execution_count": 3,
   "metadata": {},
   "outputs": [
    {
     "name": "stdout",
     "output_type": "stream",
     "text": [
      "['tphsvdhyynrtmtpsvvgvdmvrm', 'nrdmprpprchchhvlmkhmnpmgvm', 'khnsmnsmprtmlkgnvnkhchvryvn', 'dhrmjnyhchkrtjnyhchstyvkydhrdhvrth', 'chrtrnchkykthsrvbhtshkhth', 'vdvnkhkhsmrthhchkhchkprydrshnh', 'tmvnkjtkrdhdytmnkhnsykh', 'ksybbhytdvhchjtrshsysmyg', 'ttchchhmhmshrtmprmkthlmhm', 'mhrshtvmsmrthsjnytmvmvdhmnrm', 'shrtvchtttrlkjnyvlmkhnrdvchh', 'shrytmtchmmtryprhrshtvkymbrvt', 'bhvdrlbhhchvytvykrttgnh', 'mnvkshshymhmbddhvthkthshrytmnrh', 'kshvkvmshprbhvrmnmjnhshrth', 'nyttmmhvrydytmndhrtmnvsh', 'bddhmnntmnvngmshrmnshtrnbrhnh', 'vplmsmhbhhkmbgrvmhhnh']\n",
      "['trlkjnyvlmkhnrdvchh']\n",
      "[[0.07412604 0.07841904 0.08311079 0.08886421 0.11047025 0.11936621\n",
      "  0.1397455  0.16517125 0.19047283 0.19673006]]\n",
      "nearest strings: ['śrūyatām iti ca āmaṃtrya prahṛṣṭo vākyam abravīt', 'etat icchāmi aham śrotum param kautūhalam hi me', 'niyata ātmā mahāvīryo dyutimān dhṛtimān vaśī', 'maharṣe tvam samarthosi jñātum evam vidham naram', 'vipulāṃso mahābāhuḥ kaṃbu grīvo mahāhanuḥ', 'tapaḥ svādhyāya niratām tapasvī vāgvidām varam', 'kasya bibhyati devāḥ ca jāta roṣasya saṃyuge', 'cāritreṇa ca ko yuktaḥ sarva bhūteṣu ko hitaḥ', 'ātmavān ko jita krodho dyutimān kaḥ anasūyakaḥ', 'bahavo durlabhāḥ ca eva ye tvayā kīrtitā guṇāḥ'] \n"
     ]
    }
   ],
   "source": [
    "from sklearn.feature_extraction.text import TfidfVectorizer\n",
    "from aksharamukha import transliterate\n",
    "from conversion_script import script, consonants\n",
    "import chars2vec\n",
    "path_to_model = 'path/to/model/directory'\n",
    "padas=script()\n",
    "#print(padas)\n",
    "padas=consonants(padas)\n",
    "print(padas)\n",
    "c2v_model = chars2vec.load_model(path_to_model)\n",
    "padas = c2v_model.vectorize_words(padas)\n",
    "#vectorizer = TfidfVectorizer()\n",
    "#X = vectorizer.fit_transform(padas)\n",
    "import faiss\n",
    "\n",
    "# Convert the TF-IDF matrix to a numpy array\n",
    "#data = X.toarray()\n",
    "\n",
    "# Create a Flat index\n",
    "index = faiss.IndexFlatL2(padas.shape[1])  # L2 distance for similarity search\n",
    "index.add(padas)\n",
    "query_string = 'trilokajño vālmīkeḥ nārado vacaḥ'#śrutvā ca etat trilokajño vālmīkeḥ nārado vacaḥ'\n",
    "query_string=transliterate.process('IAST','RomanColloquial',query_string)\n",
    "\n",
    "#print(query_stringg)\n",
    "li=[]\n",
    "li.append(query_string)\n",
    "query_string=consonants(li)\n",
    "print(query_string)\n",
    "query_vector = c2v_model.vectorize_words(query_string)\n",
    "#print(query_stringg)\n",
    "# Preprocess the query string into a numerical vector using the same vectorizer\n",
    "#query_vector = vectorizer.transform([query_stringg]).toarray()\n",
    "\n",
    "# Perform a k-NN search\n",
    "k = 10\n",
    "distances, indices = index.search(query_vector, k)\n",
    "print(distances)\n",
    "nearest_strings = [padass[i] for i in indices[0]]\n",
    "print(f'nearest strings: {nearest_strings} ' )"
   ]
  },
  {
   "cell_type": "code",
   "execution_count": 4,
   "metadata": {},
   "outputs": [
    {
     "name": "stdout",
     "output_type": "stream",
     "text": [
      "['tapah svadhyaya niratam tapasvi vagvidam varam', 'naradam paripaprachchha valmikih muni pumgavam', 'kah nu asmin sampratam loke gunavan kah cha viryavan', 'dharmajnyah cha kritajnyah cha satya vakyo dhridha vratah', 'charitrena cha ko yuktah sarva bhuteshu ko hitah', 'vidvan kah kah samarthah cha kah cha eka priya darshanah', 'atmavan ko jita krodho dyutiman kah anasuyakah', 'kasya bibhyati devah cha jata roshasya samyuge', 'etat ichchhami aham shrotum param kautuhalam hi me', 'maharshe tvam samarthosi jnyatum evam vidham naram', 'shrutva cha etat trilokajnyo valmikeh narado vachah', 'shruyatam iti cha amamtrya prahrishto vakyam abravit', 'bahavo durlabhah cha eva ye tvaya kirtita gunah', 'mune vakshshyami aham buddhva taih uktah shruyatam narah', 'ikshvaku vamsha prabhavo ramo nama janaih shrutah', 'niyata atma mahaviryo dyutiman dhritiman vashi', 'buddhiman nitiman vangmi shriman shatru nibarhanah', 'vipulamso mahabahuh kambu grivo mahahanuh']\n",
      "cha etat trilokajnyo valmikeh narado vachah\n",
      "[[0.00328266 0.00550945 0.00692232 0.00912499 0.01392962 0.03946421\n",
      "  0.08650526 0.13511616 0.14583844 0.15786235]]\n",
      "nearest strings: ['ātmavān ko jita krodho dyutimān kaḥ anasūyakaḥ', 'vidvān kaḥ kaḥ samarthaḥ ca kaḥ ca eka priya darśanaḥ', 'tapaḥ svādhyāya niratām tapasvī vāgvidām varam', 'cāritreṇa ca ko yuktaḥ sarva bhūteṣu ko hitaḥ', 'etat icchāmi aham śrotum param kautūhalam hi me', 'śrūyatām iti ca āmaṃtrya prahṛṣṭo vākyam abravīt', 'bahavo durlabhāḥ ca eva ye tvayā kīrtitā guṇāḥ', 'mune vakṣṣyāmi aham buddhvā taiḥ uktaḥ śrūyatām naraḥ', 'śrutvā ca etat trilokajño vālmīkeḥ nārado vacaḥ', 'maharṣe tvam samarthosi jñātum evam vidham naram'] \n"
     ]
    }
   ],
   "source": [
    "from sklearn.feature_extraction.text import TfidfVectorizer\n",
    "from aksharamukha import transliterate\n",
    "from conversion_script import script, consonants\n",
    "import chars2vec\n",
    "path_to_model = 'path/to/model/directory'\n",
    "padas=script()\n",
    "#print(padas)\n",
    "print(padas)\n",
    "c2v_model = chars2vec.load_model(path_to_model)\n",
    "padas = c2v_model.vectorize_words(padas)\n",
    "#vectorizer = TfidfVectorizer()\n",
    "#X = vectorizer.fit_transform(padas)\n",
    "import faiss\n",
    "\n",
    "# Convert the TF-IDF matrix to a numpy array\n",
    "#data = X.toarray()\n",
    "\n",
    "# Create a Flat index\n",
    "index = faiss.IndexFlatL2(padas.shape[1])  # L2 distance for similarity search\n",
    "index.add(padas)\n",
    "query_string = 'ca etat trilokajño vālmīkeḥ nārado vacaḥ'#śrutvā ca etat trilokajño vālmīkeḥ nārado vacaḥ'\n",
    "query_string=transliterate.process('IAST','RomanColloquial',query_string)\n",
    "\n",
    "print(query_string)\n",
    "li=[]\n",
    "li.append(query_string)\n",
    "query_vector = c2v_model.vectorize_words([query_string])\n",
    "#print(query_stringg)\n",
    "# Preprocess the query string into a numerical vector using the same vectorizer\n",
    "#query_vector = vectorizer.transform([query_stringg]).toarray()\n",
    "\n",
    "# Perform a k-NN search\n",
    "k = 10\n",
    "distances, indices = index.search(query_vector, k)\n",
    "print(distances)\n",
    "nearest_strings = [padass[i] for i in indices[0]]\n",
    "print(f'nearest strings: {nearest_strings} ' )"
   ]
  },
  {
   "cell_type": "code",
   "execution_count": null,
   "metadata": {},
   "outputs": [],
   "source": []
  }
 ],
 "metadata": {
  "kernelspec": {
   "display_name": "Python 3",
   "language": "python",
   "name": "python3"
  },
  "language_info": {
   "codemirror_mode": {
    "name": "ipython",
    "version": 3
   },
   "file_extension": ".py",
   "mimetype": "text/x-python",
   "name": "python",
   "nbconvert_exporter": "python",
   "pygments_lexer": "ipython3",
   "version": "3.11.4"
  }
 },
 "nbformat": 4,
 "nbformat_minor": 2
}
